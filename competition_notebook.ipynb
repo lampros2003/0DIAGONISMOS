{
 "cells": [
  {
   "cell_type": "markdown",
   "id": "427f4076",
   "metadata": {},
   "source": [
    "##### Ομάδα: Ανeκανοι\n",
    "\n",
    "Λαμπρος Αβούρης\n",
    "\n",
    "Κωστας Αγγελοπουλος\n",
    "\n",
    "Βασιλης Κλάδης\n",
    "\n"
   ]
  },
  {
   "cell_type": "code",
   "execution_count": 3,
   "id": "5d758d88",
   "metadata": {},
   "outputs": [
    {
     "name": "stdout",
     "output_type": "stream",
     "text": [
      "Extracted text from the first 5 PDF files:\n"
     ]
    }
   ],
   "source": [
    "\n",
    "\n",
    "\n",
    "import PyPDF2\n",
    "import os\n",
    "\n",
    "def extract_text_from_pdf(file_path):\n",
    "    with open(file_path, 'rb') as file:\n",
    "        pdf_reader = PyPDF2.PdfReader(file)\n",
    "        text = \"\"\n",
    "        for page in range(len(pdf_reader.pages)):\n",
    "            text += pdf_reader.pages[page].extract_text()\n",
    "        return text\n",
    "\n",
    "\n",
    "\n",
    "\n",
    "pdf_directory = \"knowledge\"\n",
    "pdf_files = [os.path.join(pdf_directory, f) for f in os.listdir(pdf_directory) if f.endswith('.pdf')]\n",
    "pdf_texts = {pdf_file: extract_text_from_pdf(pdf_file) for pdf_file in pdf_files[:5]}\n",
    "\n",
    "\n",
    "print(\"Extracted text from the first 5 PDF files:\")\n",
    "\n"
   ]
  },
  {
   "cell_type": "code",
   "execution_count": null,
   "id": "b639158d",
   "metadata": {},
   "outputs": [],
   "source": []
  }
 ],
 "metadata": {
  "kernelspec": {
   "display_name": ".venv",
   "language": "python",
   "name": "python3"
  },
  "language_info": {
   "codemirror_mode": {
    "name": "ipython",
    "version": 3
   },
   "file_extension": ".py",
   "mimetype": "text/x-python",
   "name": "python",
   "nbconvert_exporter": "python",
   "pygments_lexer": "ipython3",
   "version": "3.9.9"
  }
 },
 "nbformat": 4,
 "nbformat_minor": 5
}
