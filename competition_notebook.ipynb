{
 "cells": [
  {
   "cell_type": "markdown",
   "id": "427f4076",
   "metadata": {},
   "source": [
    "##### Ομάδα: Ανeκανοι\n",
    "\n",
    "Λαμπρος Αβούρης\n",
    "\n",
    "Κωστας Αγγελοπουλος\n",
    "\n",
    "Βασιλης Κλάδης\n",
    "\n"
   ]
  },
  {
   "cell_type": "code",
   "execution_count": null,
   "id": "5d758d88",
   "metadata": {
    "vscode": {
     "languageId": "plaintext"
    }
   },
   "outputs": [],
   "source": [
    "import fitz  # PyMuPDF\n",
    "\n",
    "def extract_text_from_pdf():\n",
    "    doc = fitz.open(path)\n",
    "    text = \"\"\n",
    "    for page in doc:\n",
    "        text += page.get_text()\n",
    "    return text"
   ]
  }
 ],
 "metadata": {
  "language_info": {
   "name": "python"
  }
 },
 "nbformat": 4,
 "nbformat_minor": 5
}
