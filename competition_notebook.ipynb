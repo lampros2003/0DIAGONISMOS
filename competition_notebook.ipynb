{
 "cells": [
  {
   "cell_type": "markdown",
   "id": "427f4076",
   "metadata": {},
   "source": [
    "##### Ομάδα: Ανeκανοι\n",
    "\n",
    "Λαμπρος Αβούρης\n",
    "\n",
    "Κωστας Αγγελοπουλος\n",
    "\n",
    "Βασιλης Κλάδης\n",
    "\n"
   ]
  }
 ],
 "metadata": {
  "language_info": {
   "name": "python"
  }
 },
 "nbformat": 4,
 "nbformat_minor": 5
}
